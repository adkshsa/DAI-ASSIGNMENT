{
 "cells": [
  {
   "cell_type": "code",
   "execution_count": 1,
   "id": "9afa78e5",
   "metadata": {
    "_cell_guid": "b1076dfc-b9ad-4769-8c92-a6c4dae69d19",
    "_uuid": "8f2839f25d086af736a60e9eeb907d3b93b6e0e5",
    "execution": {
     "iopub.execute_input": "2024-10-09T10:09:56.386304Z",
     "iopub.status.busy": "2024-10-09T10:09:56.385234Z",
     "iopub.status.idle": "2024-10-09T10:09:57.383189Z",
     "shell.execute_reply": "2024-10-09T10:09:57.381896Z"
    },
    "papermill": {
     "duration": 1.019827,
     "end_time": "2024-10-09T10:09:57.385929",
     "exception": false,
     "start_time": "2024-10-09T10:09:56.366102",
     "status": "completed"
    },
    "tags": []
   },
   "outputs": [
    {
     "name": "stdout",
     "output_type": "stream",
     "text": [
      "/kaggle/input/heart-disease-prediction-using-logistic-regression/framingham.csv\n"
     ]
    }
   ],
   "source": [
    "# This Python 3 environment comes with many helpful analytics libraries installed\n",
    "# It is defined by the kaggle/python Docker image: https://github.com/kaggle/docker-python\n",
    "# For example, here's several helpful packages to load\n",
    "\n",
    "import numpy as np # linear algebra\n",
    "import pandas as pd # data processing, CSV file I/O (e.g. pd.read_csv)\n",
    "\n",
    "# Input data files are available in the read-only \"../input/\" directory\n",
    "# For example, running this (by clicking run or pressing Shift+Enter) will list all files under the input directory\n",
    "\n",
    "import os\n",
    "for dirname, _, filenames in os.walk('/kaggle/input'):\n",
    "    for filename in filenames:\n",
    "        print(os.path.join(dirname, filename))\n",
    "\n",
    "# You can write up to 20GB to the current directory (/kaggle/working/) that gets preserved as output when you create a version using \"Save & Run All\" \n",
    "# You can also write temporary files to /kaggle/temp/, but they won't be saved outside of the current session"
   ]
  },
  {
   "cell_type": "code",
   "execution_count": 2,
   "id": "763d065e",
   "metadata": {
    "execution": {
     "iopub.execute_input": "2024-10-09T10:09:57.422403Z",
     "iopub.status.busy": "2024-10-09T10:09:57.421803Z",
     "iopub.status.idle": "2024-10-09T10:09:59.257590Z",
     "shell.execute_reply": "2024-10-09T10:09:59.256235Z"
    },
    "papermill": {
     "duration": 1.857649,
     "end_time": "2024-10-09T10:09:59.260510",
     "exception": false,
     "start_time": "2024-10-09T10:09:57.402861",
     "status": "completed"
    },
    "tags": []
   },
   "outputs": [],
   "source": [
    "import pandas as pd\n",
    "import numpy as np\n",
    "import matplotlib.pyplot as plt\n",
    "import seaborn as sns\n",
    "import warnings\n",
    "warnings.filterwarnings('ignore')\n",
    "df=pd.read_csv('/kaggle/input/heart-disease-prediction-using-logistic-regression/framingham.csv')"
   ]
  },
  {
   "cell_type": "code",
   "execution_count": 3,
   "id": "7a8b0103",
   "metadata": {
    "execution": {
     "iopub.execute_input": "2024-10-09T10:09:59.295901Z",
     "iopub.status.busy": "2024-10-09T10:09:59.295435Z",
     "iopub.status.idle": "2024-10-09T10:09:59.339754Z",
     "shell.execute_reply": "2024-10-09T10:09:59.338588Z"
    },
    "papermill": {
     "duration": 0.065181,
     "end_time": "2024-10-09T10:09:59.342691",
     "exception": false,
     "start_time": "2024-10-09T10:09:59.277510",
     "status": "completed"
    },
    "tags": []
   },
   "outputs": [
    {
     "data": {
      "text/html": [
       "<div>\n",
       "<style scoped>\n",
       "    .dataframe tbody tr th:only-of-type {\n",
       "        vertical-align: middle;\n",
       "    }\n",
       "\n",
       "    .dataframe tbody tr th {\n",
       "        vertical-align: top;\n",
       "    }\n",
       "\n",
       "    .dataframe thead th {\n",
       "        text-align: right;\n",
       "    }\n",
       "</style>\n",
       "<table border=\"1\" class=\"dataframe\">\n",
       "  <thead>\n",
       "    <tr style=\"text-align: right;\">\n",
       "      <th></th>\n",
       "      <th>male</th>\n",
       "      <th>age</th>\n",
       "      <th>education</th>\n",
       "      <th>currentSmoker</th>\n",
       "      <th>cigsPerDay</th>\n",
       "      <th>BPMeds</th>\n",
       "      <th>prevalentStroke</th>\n",
       "      <th>prevalentHyp</th>\n",
       "      <th>diabetes</th>\n",
       "      <th>totChol</th>\n",
       "      <th>sysBP</th>\n",
       "      <th>diaBP</th>\n",
       "      <th>BMI</th>\n",
       "      <th>heartRate</th>\n",
       "      <th>glucose</th>\n",
       "      <th>TenYearCHD</th>\n",
       "    </tr>\n",
       "  </thead>\n",
       "  <tbody>\n",
       "    <tr>\n",
       "      <th>0</th>\n",
       "      <td>1</td>\n",
       "      <td>39</td>\n",
       "      <td>4.0</td>\n",
       "      <td>0</td>\n",
       "      <td>0.0</td>\n",
       "      <td>0.0</td>\n",
       "      <td>0</td>\n",
       "      <td>0</td>\n",
       "      <td>0</td>\n",
       "      <td>195.0</td>\n",
       "      <td>106.0</td>\n",
       "      <td>70.0</td>\n",
       "      <td>26.97</td>\n",
       "      <td>80.0</td>\n",
       "      <td>77.0</td>\n",
       "      <td>0</td>\n",
       "    </tr>\n",
       "    <tr>\n",
       "      <th>1</th>\n",
       "      <td>0</td>\n",
       "      <td>46</td>\n",
       "      <td>2.0</td>\n",
       "      <td>0</td>\n",
       "      <td>0.0</td>\n",
       "      <td>0.0</td>\n",
       "      <td>0</td>\n",
       "      <td>0</td>\n",
       "      <td>0</td>\n",
       "      <td>250.0</td>\n",
       "      <td>121.0</td>\n",
       "      <td>81.0</td>\n",
       "      <td>28.73</td>\n",
       "      <td>95.0</td>\n",
       "      <td>76.0</td>\n",
       "      <td>0</td>\n",
       "    </tr>\n",
       "    <tr>\n",
       "      <th>2</th>\n",
       "      <td>1</td>\n",
       "      <td>48</td>\n",
       "      <td>1.0</td>\n",
       "      <td>1</td>\n",
       "      <td>20.0</td>\n",
       "      <td>0.0</td>\n",
       "      <td>0</td>\n",
       "      <td>0</td>\n",
       "      <td>0</td>\n",
       "      <td>245.0</td>\n",
       "      <td>127.5</td>\n",
       "      <td>80.0</td>\n",
       "      <td>25.34</td>\n",
       "      <td>75.0</td>\n",
       "      <td>70.0</td>\n",
       "      <td>0</td>\n",
       "    </tr>\n",
       "    <tr>\n",
       "      <th>3</th>\n",
       "      <td>0</td>\n",
       "      <td>61</td>\n",
       "      <td>3.0</td>\n",
       "      <td>1</td>\n",
       "      <td>30.0</td>\n",
       "      <td>0.0</td>\n",
       "      <td>0</td>\n",
       "      <td>1</td>\n",
       "      <td>0</td>\n",
       "      <td>225.0</td>\n",
       "      <td>150.0</td>\n",
       "      <td>95.0</td>\n",
       "      <td>28.58</td>\n",
       "      <td>65.0</td>\n",
       "      <td>103.0</td>\n",
       "      <td>1</td>\n",
       "    </tr>\n",
       "    <tr>\n",
       "      <th>4</th>\n",
       "      <td>0</td>\n",
       "      <td>46</td>\n",
       "      <td>3.0</td>\n",
       "      <td>1</td>\n",
       "      <td>23.0</td>\n",
       "      <td>0.0</td>\n",
       "      <td>0</td>\n",
       "      <td>0</td>\n",
       "      <td>0</td>\n",
       "      <td>285.0</td>\n",
       "      <td>130.0</td>\n",
       "      <td>84.0</td>\n",
       "      <td>23.10</td>\n",
       "      <td>85.0</td>\n",
       "      <td>85.0</td>\n",
       "      <td>0</td>\n",
       "    </tr>\n",
       "    <tr>\n",
       "      <th>5</th>\n",
       "      <td>0</td>\n",
       "      <td>43</td>\n",
       "      <td>2.0</td>\n",
       "      <td>0</td>\n",
       "      <td>0.0</td>\n",
       "      <td>0.0</td>\n",
       "      <td>0</td>\n",
       "      <td>1</td>\n",
       "      <td>0</td>\n",
       "      <td>228.0</td>\n",
       "      <td>180.0</td>\n",
       "      <td>110.0</td>\n",
       "      <td>30.30</td>\n",
       "      <td>77.0</td>\n",
       "      <td>99.0</td>\n",
       "      <td>0</td>\n",
       "    </tr>\n",
       "    <tr>\n",
       "      <th>6</th>\n",
       "      <td>0</td>\n",
       "      <td>63</td>\n",
       "      <td>1.0</td>\n",
       "      <td>0</td>\n",
       "      <td>0.0</td>\n",
       "      <td>0.0</td>\n",
       "      <td>0</td>\n",
       "      <td>0</td>\n",
       "      <td>0</td>\n",
       "      <td>205.0</td>\n",
       "      <td>138.0</td>\n",
       "      <td>71.0</td>\n",
       "      <td>33.11</td>\n",
       "      <td>60.0</td>\n",
       "      <td>85.0</td>\n",
       "      <td>1</td>\n",
       "    </tr>\n",
       "    <tr>\n",
       "      <th>7</th>\n",
       "      <td>0</td>\n",
       "      <td>45</td>\n",
       "      <td>2.0</td>\n",
       "      <td>1</td>\n",
       "      <td>20.0</td>\n",
       "      <td>0.0</td>\n",
       "      <td>0</td>\n",
       "      <td>0</td>\n",
       "      <td>0</td>\n",
       "      <td>313.0</td>\n",
       "      <td>100.0</td>\n",
       "      <td>71.0</td>\n",
       "      <td>21.68</td>\n",
       "      <td>79.0</td>\n",
       "      <td>78.0</td>\n",
       "      <td>0</td>\n",
       "    </tr>\n",
       "    <tr>\n",
       "      <th>8</th>\n",
       "      <td>1</td>\n",
       "      <td>52</td>\n",
       "      <td>1.0</td>\n",
       "      <td>0</td>\n",
       "      <td>0.0</td>\n",
       "      <td>0.0</td>\n",
       "      <td>0</td>\n",
       "      <td>1</td>\n",
       "      <td>0</td>\n",
       "      <td>260.0</td>\n",
       "      <td>141.5</td>\n",
       "      <td>89.0</td>\n",
       "      <td>26.36</td>\n",
       "      <td>76.0</td>\n",
       "      <td>79.0</td>\n",
       "      <td>0</td>\n",
       "    </tr>\n",
       "    <tr>\n",
       "      <th>9</th>\n",
       "      <td>1</td>\n",
       "      <td>43</td>\n",
       "      <td>1.0</td>\n",
       "      <td>1</td>\n",
       "      <td>30.0</td>\n",
       "      <td>0.0</td>\n",
       "      <td>0</td>\n",
       "      <td>1</td>\n",
       "      <td>0</td>\n",
       "      <td>225.0</td>\n",
       "      <td>162.0</td>\n",
       "      <td>107.0</td>\n",
       "      <td>23.61</td>\n",
       "      <td>93.0</td>\n",
       "      <td>88.0</td>\n",
       "      <td>0</td>\n",
       "    </tr>\n",
       "  </tbody>\n",
       "</table>\n",
       "</div>"
      ],
      "text/plain": [
       "   male  age  education  currentSmoker  cigsPerDay  BPMeds  prevalentStroke  \\\n",
       "0     1   39        4.0              0         0.0     0.0                0   \n",
       "1     0   46        2.0              0         0.0     0.0                0   \n",
       "2     1   48        1.0              1        20.0     0.0                0   \n",
       "3     0   61        3.0              1        30.0     0.0                0   \n",
       "4     0   46        3.0              1        23.0     0.0                0   \n",
       "5     0   43        2.0              0         0.0     0.0                0   \n",
       "6     0   63        1.0              0         0.0     0.0                0   \n",
       "7     0   45        2.0              1        20.0     0.0                0   \n",
       "8     1   52        1.0              0         0.0     0.0                0   \n",
       "9     1   43        1.0              1        30.0     0.0                0   \n",
       "\n",
       "   prevalentHyp  diabetes  totChol  sysBP  diaBP    BMI  heartRate  glucose  \\\n",
       "0             0         0    195.0  106.0   70.0  26.97       80.0     77.0   \n",
       "1             0         0    250.0  121.0   81.0  28.73       95.0     76.0   \n",
       "2             0         0    245.0  127.5   80.0  25.34       75.0     70.0   \n",
       "3             1         0    225.0  150.0   95.0  28.58       65.0    103.0   \n",
       "4             0         0    285.0  130.0   84.0  23.10       85.0     85.0   \n",
       "5             1         0    228.0  180.0  110.0  30.30       77.0     99.0   \n",
       "6             0         0    205.0  138.0   71.0  33.11       60.0     85.0   \n",
       "7             0         0    313.0  100.0   71.0  21.68       79.0     78.0   \n",
       "8             1         0    260.0  141.5   89.0  26.36       76.0     79.0   \n",
       "9             1         0    225.0  162.0  107.0  23.61       93.0     88.0   \n",
       "\n",
       "   TenYearCHD  \n",
       "0           0  \n",
       "1           0  \n",
       "2           0  \n",
       "3           1  \n",
       "4           0  \n",
       "5           0  \n",
       "6           1  \n",
       "7           0  \n",
       "8           0  \n",
       "9           0  "
      ]
     },
     "execution_count": 3,
     "metadata": {},
     "output_type": "execute_result"
    }
   ],
   "source": [
    "df.head(10)"
   ]
  },
  {
   "cell_type": "code",
   "execution_count": 4,
   "id": "e2015491",
   "metadata": {
    "execution": {
     "iopub.execute_input": "2024-10-09T10:09:59.378955Z",
     "iopub.status.busy": "2024-10-09T10:09:59.378512Z",
     "iopub.status.idle": "2024-10-09T10:09:59.390730Z",
     "shell.execute_reply": "2024-10-09T10:09:59.389516Z"
    },
    "papermill": {
     "duration": 0.033466,
     "end_time": "2024-10-09T10:09:59.393617",
     "exception": false,
     "start_time": "2024-10-09T10:09:59.360151",
     "status": "completed"
    },
    "tags": []
   },
   "outputs": [
    {
     "data": {
      "text/plain": [
       "male                 0\n",
       "age                  0\n",
       "education          105\n",
       "currentSmoker        0\n",
       "cigsPerDay          29\n",
       "BPMeds              53\n",
       "prevalentStroke      0\n",
       "prevalentHyp         0\n",
       "diabetes             0\n",
       "totChol             50\n",
       "sysBP                0\n",
       "diaBP                0\n",
       "BMI                 19\n",
       "heartRate            1\n",
       "glucose            388\n",
       "TenYearCHD           0\n",
       "dtype: int64"
      ]
     },
     "execution_count": 4,
     "metadata": {},
     "output_type": "execute_result"
    }
   ],
   "source": [
    "df.isnull().sum()\n",
    "#we have to fill all the null values since deleting them are not practical"
   ]
  },
  {
   "cell_type": "code",
   "execution_count": 5,
   "id": "f86321a5",
   "metadata": {
    "execution": {
     "iopub.execute_input": "2024-10-09T10:09:59.430274Z",
     "iopub.status.busy": "2024-10-09T10:09:59.429828Z",
     "iopub.status.idle": "2024-10-09T10:09:59.935594Z",
     "shell.execute_reply": "2024-10-09T10:09:59.934057Z"
    },
    "papermill": {
     "duration": 0.526496,
     "end_time": "2024-10-09T10:09:59.937670",
     "exception": true,
     "start_time": "2024-10-09T10:09:59.411174",
     "status": "failed"
    },
    "tags": []
   },
   "outputs": [
    {
     "ename": "NameError",
     "evalue": "name 'pointbiserialr' is not defined",
     "output_type": "error",
     "traceback": [
      "\u001b[0;31m---------------------------------------------------------------------------\u001b[0m",
      "\u001b[0;31mNameError\u001b[0m                                 Traceback (most recent call last)",
      "Cell \u001b[0;32mIn[5], line 2\u001b[0m\n\u001b[1;32m      1\u001b[0m df2 \u001b[38;5;241m=\u001b[39m df\u001b[38;5;241m.\u001b[39mdropna(subset\u001b[38;5;241m=\u001b[39m[\u001b[38;5;124m'\u001b[39m\u001b[38;5;124mcigsPerDay\u001b[39m\u001b[38;5;124m'\u001b[39m])\n\u001b[0;32m----> 2\u001b[0m correlation, p_value \u001b[38;5;241m=\u001b[39m \u001b[43mpointbiserialr\u001b[49m(df2[\u001b[38;5;124m'\u001b[39m\u001b[38;5;124mTenYearCHD\u001b[39m\u001b[38;5;124m'\u001b[39m], df2[\u001b[38;5;124m'\u001b[39m\u001b[38;5;124mcigsPerDay\u001b[39m\u001b[38;5;124m'\u001b[39m])\n\u001b[1;32m      4\u001b[0m \u001b[38;5;28mprint\u001b[39m(\u001b[38;5;124mf\u001b[39m\u001b[38;5;124m\"\u001b[39m\u001b[38;5;124mPoint-Biserial Correlation: \u001b[39m\u001b[38;5;132;01m{\u001b[39;00mcorrelation\u001b[38;5;132;01m:\u001b[39;00m\u001b[38;5;124m.2f\u001b[39m\u001b[38;5;132;01m}\u001b[39;00m\u001b[38;5;124m\"\u001b[39m)\n\u001b[1;32m      5\u001b[0m \u001b[38;5;28mprint\u001b[39m(\u001b[38;5;124mf\u001b[39m\u001b[38;5;124m\"\u001b[39m\u001b[38;5;124mP-value: \u001b[39m\u001b[38;5;132;01m{\u001b[39;00mp_value\u001b[38;5;132;01m:\u001b[39;00m\u001b[38;5;124m.3f\u001b[39m\u001b[38;5;132;01m}\u001b[39;00m\u001b[38;5;124m\"\u001b[39m)\n",
      "\u001b[0;31mNameError\u001b[0m: name 'pointbiserialr' is not defined"
     ]
    }
   ],
   "source": [
    "df2 = df.dropna(subset=['cigsPerDay'])\n",
    "correlation, p_value = pointbiserialr(df2['TenYearCHD'], df2['cigsPerDay'])\n",
    "\n",
    "print(f\"Point-Biserial Correlation: {correlation:.2f}\")\n",
    "print(f\"P-value: {p_value:.3f}\")"
   ]
  },
  {
   "cell_type": "code",
   "execution_count": null,
   "id": "a765cda6",
   "metadata": {
    "execution": {
     "iopub.execute_input": "2024-10-09T10:07:28.866581Z",
     "iopub.status.busy": "2024-10-09T10:07:28.866081Z",
     "iopub.status.idle": "2024-10-09T10:07:28.880372Z",
     "shell.execute_reply": "2024-10-09T10:07:28.879035Z",
     "shell.execute_reply.started": "2024-10-09T10:07:28.866524Z"
    },
    "papermill": {
     "duration": null,
     "end_time": null,
     "exception": null,
     "start_time": null,
     "status": "pending"
    },
    "tags": []
   },
   "outputs": [],
   "source": [
    "df2 = df.dropna(subset=['sysBP'])\n",
    "correlation, p_value = pointbiserialr(df2['TenYearCHD'], df2['sysBP'])\n",
    "\n",
    "print(f\"Point-Biserial Correlation: {correlation:.2f}\")\n",
    "print(f\"P-value: {p_value:.3f}\")"
   ]
  },
  {
   "cell_type": "code",
   "execution_count": null,
   "id": "05472f64",
   "metadata": {
    "execution": {
     "iopub.execute_input": "2024-10-09T10:07:28.882607Z",
     "iopub.status.busy": "2024-10-09T10:07:28.882060Z",
     "iopub.status.idle": "2024-10-09T10:07:28.897363Z",
     "shell.execute_reply": "2024-10-09T10:07:28.896137Z",
     "shell.execute_reply.started": "2024-10-09T10:07:28.882554Z"
    },
    "papermill": {
     "duration": null,
     "end_time": null,
     "exception": null,
     "start_time": null,
     "status": "pending"
    },
    "tags": []
   },
   "outputs": [],
   "source": [
    "df2 = df.dropna(subset=['totChol'])\n",
    "correlation, p_value = pointbiserialr(df2['TenYearCHD'], df2['totChol'])\n",
    "\n",
    "print(f\"Point-Biserial Correlation: {correlation:.2f}\")\n",
    "print(f\"P-value: {p_value:.3f}\")"
   ]
  },
  {
   "cell_type": "code",
   "execution_count": null,
   "id": "9a410228",
   "metadata": {
    "execution": {
     "iopub.execute_input": "2024-10-09T10:07:28.899417Z",
     "iopub.status.busy": "2024-10-09T10:07:28.898867Z",
     "iopub.status.idle": "2024-10-09T10:07:28.915597Z",
     "shell.execute_reply": "2024-10-09T10:07:28.914279Z",
     "shell.execute_reply.started": "2024-10-09T10:07:28.899350Z"
    },
    "papermill": {
     "duration": null,
     "end_time": null,
     "exception": null,
     "start_time": null,
     "status": "pending"
    },
    "tags": []
   },
   "outputs": [],
   "source": [
    "df2 = df.dropna(subset=['diaBP'])\n",
    "correlation, p_value = pointbiserialr(df2['TenYearCHD'], df2['diaBP'])\n",
    "\n",
    "print(f\"Point-Biserial Correlation: {correlation:.2f}\")\n",
    "print(f\"P-value: {p_value:.3f}\")"
   ]
  },
  {
   "cell_type": "code",
   "execution_count": null,
   "id": "3c938dd9",
   "metadata": {
    "execution": {
     "iopub.execute_input": "2024-10-09T10:07:28.917736Z",
     "iopub.status.busy": "2024-10-09T10:07:28.917304Z",
     "iopub.status.idle": "2024-10-09T10:07:28.931280Z",
     "shell.execute_reply": "2024-10-09T10:07:28.929934Z",
     "shell.execute_reply.started": "2024-10-09T10:07:28.917693Z"
    },
    "papermill": {
     "duration": null,
     "end_time": null,
     "exception": null,
     "start_time": null,
     "status": "pending"
    },
    "tags": []
   },
   "outputs": [],
   "source": [
    "df2 = df.dropna(subset=['BMI'])\n",
    "correlation, p_value = pointbiserialr(df2['TenYearCHD'], df2['BMI'])\n",
    "\n",
    "print(f\"Point-Biserial Correlation: {correlation:.2f}\")\n",
    "print(f\"P-value: {p_value:.3f}\")"
   ]
  },
  {
   "cell_type": "code",
   "execution_count": null,
   "id": "430e511c",
   "metadata": {
    "execution": {
     "iopub.execute_input": "2024-10-09T10:07:28.935400Z",
     "iopub.status.busy": "2024-10-09T10:07:28.934833Z",
     "iopub.status.idle": "2024-10-09T10:07:28.949122Z",
     "shell.execute_reply": "2024-10-09T10:07:28.947586Z",
     "shell.execute_reply.started": "2024-10-09T10:07:28.935341Z"
    },
    "papermill": {
     "duration": null,
     "end_time": null,
     "exception": null,
     "start_time": null,
     "status": "pending"
    },
    "tags": []
   },
   "outputs": [],
   "source": [
    "df2 = df.dropna(subset=['heartRate'])\n",
    "correlation, p_value = pointbiserialr(df2['TenYearCHD'], df2['heartRate'])\n",
    "\n",
    "print(f\"Point-Biserial Correlation: {correlation:.2f}\")\n",
    "print(f\"P-value: {p_value:.3f}\")"
   ]
  },
  {
   "cell_type": "code",
   "execution_count": null,
   "id": "610fd35b",
   "metadata": {
    "execution": {
     "iopub.execute_input": "2024-10-09T10:07:28.951240Z",
     "iopub.status.busy": "2024-10-09T10:07:28.950728Z",
     "iopub.status.idle": "2024-10-09T10:07:28.965819Z",
     "shell.execute_reply": "2024-10-09T10:07:28.964542Z",
     "shell.execute_reply.started": "2024-10-09T10:07:28.951185Z"
    },
    "papermill": {
     "duration": null,
     "end_time": null,
     "exception": null,
     "start_time": null,
     "status": "pending"
    },
    "tags": []
   },
   "outputs": [],
   "source": [
    "df2 = df.dropna(subset=['glucose'])\n",
    "correlation, p_value = pointbiserialr(df2['TenYearCHD'], df2['glucose'])\n",
    "\n",
    "print(f\"Point-Biserial Correlation: {correlation:.2f}\")\n",
    "print(f\"P-value: {p_value:.3f}\")"
   ]
  },
  {
   "cell_type": "code",
   "execution_count": null,
   "id": "0ab939c2",
   "metadata": {
    "execution": {
     "iopub.execute_input": "2024-10-09T10:07:28.969702Z",
     "iopub.status.busy": "2024-10-09T10:07:28.969204Z",
     "iopub.status.idle": "2024-10-09T10:07:28.988324Z",
     "shell.execute_reply": "2024-10-09T10:07:28.986891Z",
     "shell.execute_reply.started": "2024-10-09T10:07:28.969646Z"
    },
    "papermill": {
     "duration": null,
     "end_time": null,
     "exception": null,
     "start_time": null,
     "status": "pending"
    },
    "tags": []
   },
   "outputs": [],
   "source": [
    "chi2, p, dof, expected = chi2_contingency(pd.crosstab(df['education'], df['TenYearCHD']))\n",
    "\n",
    "print(f\"Chi-square statistic: {chi2}\")\n",
    "print(f\"P-value: {p}\")"
   ]
  },
  {
   "cell_type": "code",
   "execution_count": null,
   "id": "412db5da",
   "metadata": {
    "execution": {
     "iopub.execute_input": "2024-10-09T10:07:28.990714Z",
     "iopub.status.busy": "2024-10-09T10:07:28.990213Z",
     "iopub.status.idle": "2024-10-09T10:07:29.008634Z",
     "shell.execute_reply": "2024-10-09T10:07:29.007046Z",
     "shell.execute_reply.started": "2024-10-09T10:07:28.990657Z"
    },
    "papermill": {
     "duration": null,
     "end_time": null,
     "exception": null,
     "start_time": null,
     "status": "pending"
    },
    "tags": []
   },
   "outputs": [],
   "source": [
    "chi2, p, dof, expected = chi2_contingency(pd.crosstab(df['male'], df['TenYearCHD']))\n",
    "\n",
    "print(f\"Chi-square statistic: {chi2}\")\n",
    "print(f\"P-value: {p}\")\n"
   ]
  },
  {
   "cell_type": "code",
   "execution_count": null,
   "id": "3e3f0876",
   "metadata": {
    "execution": {
     "iopub.execute_input": "2024-10-09T10:07:29.010661Z",
     "iopub.status.busy": "2024-10-09T10:07:29.010278Z",
     "iopub.status.idle": "2024-10-09T10:07:29.028874Z",
     "shell.execute_reply": "2024-10-09T10:07:29.027351Z",
     "shell.execute_reply.started": "2024-10-09T10:07:29.010616Z"
    },
    "papermill": {
     "duration": null,
     "end_time": null,
     "exception": null,
     "start_time": null,
     "status": "pending"
    },
    "tags": []
   },
   "outputs": [],
   "source": [
    "chi2, p, dof, expected = chi2_contingency(pd.crosstab(df['currentSmoker'], df['TenYearCHD']))\n",
    "\n",
    "print(f\"Chi-square statistic: {chi2}\")\n",
    "print(f\"P-value: {p}\")\n"
   ]
  },
  {
   "cell_type": "code",
   "execution_count": null,
   "id": "ba24cbf4",
   "metadata": {
    "execution": {
     "iopub.execute_input": "2024-10-09T10:07:29.030789Z",
     "iopub.status.busy": "2024-10-09T10:07:29.030421Z",
     "iopub.status.idle": "2024-10-09T10:07:29.049778Z",
     "shell.execute_reply": "2024-10-09T10:07:29.048675Z",
     "shell.execute_reply.started": "2024-10-09T10:07:29.030749Z"
    },
    "papermill": {
     "duration": null,
     "end_time": null,
     "exception": null,
     "start_time": null,
     "status": "pending"
    },
    "tags": []
   },
   "outputs": [],
   "source": [
    "chi2, p, dof, expected = chi2_contingency(pd.crosstab(df['BPMeds'], df['TenYearCHD']))\n",
    "\n",
    "print(f\"Chi-square statistic: {chi2}\")\n",
    "print(f\"P-value: {p}\")\n"
   ]
  },
  {
   "cell_type": "code",
   "execution_count": null,
   "id": "50b4d122",
   "metadata": {
    "execution": {
     "iopub.execute_input": "2024-10-09T10:07:29.051421Z",
     "iopub.status.busy": "2024-10-09T10:07:29.051078Z",
     "iopub.status.idle": "2024-10-09T10:07:29.070861Z",
     "shell.execute_reply": "2024-10-09T10:07:29.069401Z",
     "shell.execute_reply.started": "2024-10-09T10:07:29.051382Z"
    },
    "papermill": {
     "duration": null,
     "end_time": null,
     "exception": null,
     "start_time": null,
     "status": "pending"
    },
    "tags": []
   },
   "outputs": [],
   "source": [
    "chi2, p, dof, expected = chi2_contingency(pd.crosstab(df['prevalentStroke'], df['TenYearCHD']))\n",
    "\n",
    "print(f\"Chi-square statistic: {chi2}\")\n",
    "print(f\"P-value: {p}\")\n"
   ]
  },
  {
   "cell_type": "code",
   "execution_count": null,
   "id": "94ce0cbf",
   "metadata": {
    "execution": {
     "iopub.execute_input": "2024-10-09T10:07:29.076057Z",
     "iopub.status.busy": "2024-10-09T10:07:29.075069Z",
     "iopub.status.idle": "2024-10-09T10:07:29.093247Z",
     "shell.execute_reply": "2024-10-09T10:07:29.091838Z",
     "shell.execute_reply.started": "2024-10-09T10:07:29.076008Z"
    },
    "papermill": {
     "duration": null,
     "end_time": null,
     "exception": null,
     "start_time": null,
     "status": "pending"
    },
    "tags": []
   },
   "outputs": [],
   "source": [
    "chi2, p, dof, expected = chi2_contingency(pd.crosstab(df['prevalentHyp'], df['TenYearCHD']))\n",
    "\n",
    "print(f\"Chi-square statistic: {chi2}\")\n",
    "print(f\"P-value: {p}\")\n"
   ]
  },
  {
   "cell_type": "code",
   "execution_count": null,
   "id": "a6e79306",
   "metadata": {
    "execution": {
     "iopub.execute_input": "2024-10-09T10:07:29.095143Z",
     "iopub.status.busy": "2024-10-09T10:07:29.094709Z",
     "iopub.status.idle": "2024-10-09T10:07:29.120721Z",
     "shell.execute_reply": "2024-10-09T10:07:29.119054Z",
     "shell.execute_reply.started": "2024-10-09T10:07:29.095096Z"
    },
    "papermill": {
     "duration": null,
     "end_time": null,
     "exception": null,
     "start_time": null,
     "status": "pending"
    },
    "tags": []
   },
   "outputs": [],
   "source": [
    "chi2, p, dof, expected = chi2_contingency(pd.crosstab(df['diabetes'], df['TenYearCHD']))\n",
    "\n",
    "print(f\"Chi-square statistic: {chi2}\")\n",
    "print(f\"P-value: {p}\")\n"
   ]
  },
  {
   "cell_type": "code",
   "execution_count": null,
   "id": "f298c568",
   "metadata": {
    "execution": {
     "iopub.execute_input": "2024-10-09T10:07:29.122859Z",
     "iopub.status.busy": "2024-10-09T10:07:29.122381Z",
     "iopub.status.idle": "2024-10-09T10:07:29.132172Z",
     "shell.execute_reply": "2024-10-09T10:07:29.130546Z",
     "shell.execute_reply.started": "2024-10-09T10:07:29.122789Z"
    },
    "papermill": {
     "duration": null,
     "end_time": null,
     "exception": null,
     "start_time": null,
     "status": "pending"
    },
    "tags": []
   },
   "outputs": [],
   "source": [
    "#pvalue of heart rate and current smoker is greater than 0.05 hence they are not significant. Therfore we have to remove them\n",
    "df.drop('currentSmoker',axis=1,inplace=True)\n",
    "df.drop('heartRate',axis=1,inplace=True)"
   ]
  },
  {
   "cell_type": "code",
   "execution_count": null,
   "id": "c0f907e6",
   "metadata": {
    "execution": {
     "iopub.execute_input": "2024-10-09T10:07:29.134638Z",
     "iopub.status.busy": "2024-10-09T10:07:29.133790Z",
     "iopub.status.idle": "2024-10-09T10:07:29.162134Z",
     "shell.execute_reply": "2024-10-09T10:07:29.160764Z",
     "shell.execute_reply.started": "2024-10-09T10:07:29.134571Z"
    },
    "papermill": {
     "duration": null,
     "end_time": null,
     "exception": null,
     "start_time": null,
     "status": "pending"
    },
    "tags": []
   },
   "outputs": [],
   "source": [
    "df.head()"
   ]
  },
  {
   "cell_type": "code",
   "execution_count": null,
   "id": "2a0c1b5f",
   "metadata": {
    "execution": {
     "iopub.execute_input": "2024-10-09T10:07:29.164187Z",
     "iopub.status.busy": "2024-10-09T10:07:29.163757Z",
     "iopub.status.idle": "2024-10-09T10:07:29.412788Z",
     "shell.execute_reply": "2024-10-09T10:07:29.411718Z",
     "shell.execute_reply.started": "2024-10-09T10:07:29.164143Z"
    },
    "papermill": {
     "duration": null,
     "end_time": null,
     "exception": null,
     "start_time": null,
     "status": "pending"
    },
    "tags": []
   },
   "outputs": [],
   "source": [
    "#now we have to deal with the outliers,since removing outliers may lead to loss of much data we have to cap teh outliers to the nearest extreme point\n",
    "import seaborn as sns\n",
    "plt.figure(figsize=(8, 6))\n",
    "\n",
    "sns.boxplot(x=df['age'])\n"
   ]
  },
  {
   "cell_type": "code",
   "execution_count": null,
   "id": "8753be00",
   "metadata": {
    "execution": {
     "iopub.execute_input": "2024-10-09T10:07:29.414727Z",
     "iopub.status.busy": "2024-10-09T10:07:29.414326Z",
     "iopub.status.idle": "2024-10-09T10:07:29.673311Z",
     "shell.execute_reply": "2024-10-09T10:07:29.672046Z",
     "shell.execute_reply.started": "2024-10-09T10:07:29.414685Z"
    },
    "papermill": {
     "duration": null,
     "end_time": null,
     "exception": null,
     "start_time": null,
     "status": "pending"
    },
    "tags": []
   },
   "outputs": [],
   "source": [
    "plt.figure(figsize=(8, 6))\n",
    "\n",
    "sns.boxplot(x=df['cigsPerDay'])"
   ]
  },
  {
   "cell_type": "code",
   "execution_count": null,
   "id": "1d66e88e",
   "metadata": {
    "execution": {
     "iopub.execute_input": "2024-10-09T10:07:29.675843Z",
     "iopub.status.busy": "2024-10-09T10:07:29.675340Z",
     "iopub.status.idle": "2024-10-09T10:07:29.925357Z",
     "shell.execute_reply": "2024-10-09T10:07:29.924044Z",
     "shell.execute_reply.started": "2024-10-09T10:07:29.675785Z"
    },
    "papermill": {
     "duration": null,
     "end_time": null,
     "exception": null,
     "start_time": null,
     "status": "pending"
    },
    "tags": []
   },
   "outputs": [],
   "source": [
    "plt.figure(figsize=(8, 6))\n",
    "\n",
    "sns.boxplot(x=df['totChol'])"
   ]
  },
  {
   "cell_type": "code",
   "execution_count": null,
   "id": "12c6d0c2",
   "metadata": {
    "execution": {
     "iopub.execute_input": "2024-10-09T10:07:29.927882Z",
     "iopub.status.busy": "2024-10-09T10:07:29.927397Z",
     "iopub.status.idle": "2024-10-09T10:07:30.162590Z",
     "shell.execute_reply": "2024-10-09T10:07:30.161424Z",
     "shell.execute_reply.started": "2024-10-09T10:07:29.927826Z"
    },
    "papermill": {
     "duration": null,
     "end_time": null,
     "exception": null,
     "start_time": null,
     "status": "pending"
    },
    "tags": []
   },
   "outputs": [],
   "source": [
    "plt.figure(figsize=(8, 6))\n",
    "\n",
    "sns.boxplot(x=df['sysBP'])"
   ]
  },
  {
   "cell_type": "code",
   "execution_count": null,
   "id": "1836a5ad",
   "metadata": {
    "execution": {
     "iopub.execute_input": "2024-10-09T10:07:30.164893Z",
     "iopub.status.busy": "2024-10-09T10:07:30.164348Z",
     "iopub.status.idle": "2024-10-09T10:07:30.407347Z",
     "shell.execute_reply": "2024-10-09T10:07:30.405997Z",
     "shell.execute_reply.started": "2024-10-09T10:07:30.164846Z"
    },
    "papermill": {
     "duration": null,
     "end_time": null,
     "exception": null,
     "start_time": null,
     "status": "pending"
    },
    "tags": []
   },
   "outputs": [],
   "source": [
    "plt.figure(figsize=(8, 6))\n",
    "\n",
    "sns.boxplot(x=df['diaBP'])"
   ]
  },
  {
   "cell_type": "code",
   "execution_count": null,
   "id": "e2dbc0c8",
   "metadata": {
    "execution": {
     "iopub.execute_input": "2024-10-09T10:07:30.409467Z",
     "iopub.status.busy": "2024-10-09T10:07:30.409016Z",
     "iopub.status.idle": "2024-10-09T10:07:30.643523Z",
     "shell.execute_reply": "2024-10-09T10:07:30.642143Z",
     "shell.execute_reply.started": "2024-10-09T10:07:30.409416Z"
    },
    "papermill": {
     "duration": null,
     "end_time": null,
     "exception": null,
     "start_time": null,
     "status": "pending"
    },
    "tags": []
   },
   "outputs": [],
   "source": [
    "plt.figure(figsize=(8, 6))\n",
    "\n",
    "sns.boxplot(x=df['BMI'])"
   ]
  },
  {
   "cell_type": "code",
   "execution_count": null,
   "id": "8a5395e9",
   "metadata": {
    "execution": {
     "iopub.execute_input": "2024-10-09T10:07:30.646447Z",
     "iopub.status.busy": "2024-10-09T10:07:30.645238Z",
     "iopub.status.idle": "2024-10-09T10:07:30.901383Z",
     "shell.execute_reply": "2024-10-09T10:07:30.900177Z",
     "shell.execute_reply.started": "2024-10-09T10:07:30.646384Z"
    },
    "papermill": {
     "duration": null,
     "end_time": null,
     "exception": null,
     "start_time": null,
     "status": "pending"
    },
    "tags": []
   },
   "outputs": [],
   "source": [
    "plt.figure(figsize=(8, 6))\n",
    "\n",
    "sns.boxplot(x=df['glucose'])"
   ]
  },
  {
   "cell_type": "code",
   "execution_count": null,
   "id": "b14cd7db",
   "metadata": {
    "execution": {
     "iopub.execute_input": "2024-10-09T10:07:30.903287Z",
     "iopub.status.busy": "2024-10-09T10:07:30.902790Z",
     "iopub.status.idle": "2024-10-09T10:07:30.929227Z",
     "shell.execute_reply": "2024-10-09T10:07:30.927885Z",
     "shell.execute_reply.started": "2024-10-09T10:07:30.903229Z"
    },
    "papermill": {
     "duration": null,
     "end_time": null,
     "exception": null,
     "start_time": null,
     "status": "pending"
    },
    "tags": []
   },
   "outputs": [],
   "source": [
    "df.head()"
   ]
  },
  {
   "cell_type": "code",
   "execution_count": null,
   "id": "e835adc5",
   "metadata": {
    "execution": {
     "iopub.execute_input": "2024-10-09T10:07:30.931437Z",
     "iopub.status.busy": "2024-10-09T10:07:30.930933Z",
     "iopub.status.idle": "2024-10-09T10:07:30.949217Z",
     "shell.execute_reply": "2024-10-09T10:07:30.947868Z",
     "shell.execute_reply.started": "2024-10-09T10:07:30.931381Z"
    },
    "papermill": {
     "duration": null,
     "end_time": null,
     "exception": null,
     "start_time": null,
     "status": "pending"
    },
    "tags": []
   },
   "outputs": [],
   "source": [
    "Q1 = df['cigsPerDay'].quantile(0.25)\n",
    "Q3 = df['cigsPerDay'].quantile(0.75)\n",
    "IQR = Q3 - Q1\n",
    "\n",
    "# Define bounds for outliers\n",
    "lower_bound = Q1 - 1.5 * IQR\n",
    "upper_bound = Q3 + 1.5 * IQR\n",
    "\n",
    "# Cap the outliers\n",
    "df['cigsPerDay'] = df['cigsPerDay'].apply(lambda x: upper_bound if x > upper_bound else (lower_bound if x < lower_bound else x))\n",
    "\n",
    "\n"
   ]
  },
  {
   "cell_type": "code",
   "execution_count": null,
   "id": "a69e60c0",
   "metadata": {
    "execution": {
     "iopub.execute_input": "2024-10-09T10:07:30.951500Z",
     "iopub.status.busy": "2024-10-09T10:07:30.951023Z",
     "iopub.status.idle": "2024-10-09T10:07:30.970367Z",
     "shell.execute_reply": "2024-10-09T10:07:30.968971Z",
     "shell.execute_reply.started": "2024-10-09T10:07:30.951449Z"
    },
    "papermill": {
     "duration": null,
     "end_time": null,
     "exception": null,
     "start_time": null,
     "status": "pending"
    },
    "tags": []
   },
   "outputs": [],
   "source": [
    "Q1 = df['totChol'].quantile(0.25)\n",
    "Q3 = df['totChol'].quantile(0.75)\n",
    "IQR = Q3 - Q1\n",
    "\n",
    "# Define bounds for outliers\n",
    "lower_bound = Q1 - 1.5 * IQR\n",
    "upper_bound = Q3 + 1.5 * IQR\n",
    "\n",
    "# Cap the outliers\n",
    "df['totChol'] = df['totChol'].apply(lambda x: upper_bound if x > upper_bound else (lower_bound if x < lower_bound else x))\n",
    "\n"
   ]
  },
  {
   "cell_type": "code",
   "execution_count": null,
   "id": "dce5a50e",
   "metadata": {
    "execution": {
     "iopub.execute_input": "2024-10-09T10:07:30.983677Z",
     "iopub.status.busy": "2024-10-09T10:07:30.982647Z",
     "iopub.status.idle": "2024-10-09T10:07:30.999042Z",
     "shell.execute_reply": "2024-10-09T10:07:30.997552Z",
     "shell.execute_reply.started": "2024-10-09T10:07:30.983613Z"
    },
    "papermill": {
     "duration": null,
     "end_time": null,
     "exception": null,
     "start_time": null,
     "status": "pending"
    },
    "tags": []
   },
   "outputs": [],
   "source": [
    "Q1 = df['sysBP'].quantile(0.25)\n",
    "Q3 = df['sysBP'].quantile(0.75)\n",
    "IQR = Q3 - Q1\n",
    "\n",
    "# Define bounds for outliers\n",
    "lower_bound = Q1 - 1.5 * IQR\n",
    "upper_bound = Q3 + 1.5 * IQR\n",
    "\n",
    "# Cap the outliers\n",
    "df['sysBP'] = df['sysBP'].apply(lambda x: upper_bound if x > upper_bound else (lower_bound if x < lower_bound else x))\n",
    "\n"
   ]
  },
  {
   "cell_type": "code",
   "execution_count": null,
   "id": "4f6aa6b8",
   "metadata": {
    "execution": {
     "iopub.execute_input": "2024-10-09T10:07:31.001557Z",
     "iopub.status.busy": "2024-10-09T10:07:31.001064Z",
     "iopub.status.idle": "2024-10-09T10:07:31.017804Z",
     "shell.execute_reply": "2024-10-09T10:07:31.016505Z",
     "shell.execute_reply.started": "2024-10-09T10:07:31.001504Z"
    },
    "papermill": {
     "duration": null,
     "end_time": null,
     "exception": null,
     "start_time": null,
     "status": "pending"
    },
    "tags": []
   },
   "outputs": [],
   "source": [
    "Q1 = df['diaBP'].quantile(0.25)\n",
    "Q3 = df['diaBP'].quantile(0.75)\n",
    "IQR = Q3 - Q1\n",
    "\n",
    "# Define bounds for outliers\n",
    "lower_bound = Q1 - 1.5 * IQR\n",
    "upper_bound = Q3 + 1.5 * IQR\n",
    "\n",
    "# Cap the outliers\n",
    "df['diaBP'] = df['diaBP'].apply(lambda x: upper_bound if x > upper_bound else (lower_bound if x < lower_bound else x))\n",
    "\n"
   ]
  },
  {
   "cell_type": "code",
   "execution_count": null,
   "id": "0684b83f",
   "metadata": {
    "execution": {
     "iopub.execute_input": "2024-10-09T10:07:31.020873Z",
     "iopub.status.busy": "2024-10-09T10:07:31.020042Z",
     "iopub.status.idle": "2024-10-09T10:07:31.041121Z",
     "shell.execute_reply": "2024-10-09T10:07:31.039555Z",
     "shell.execute_reply.started": "2024-10-09T10:07:31.020811Z"
    },
    "papermill": {
     "duration": null,
     "end_time": null,
     "exception": null,
     "start_time": null,
     "status": "pending"
    },
    "tags": []
   },
   "outputs": [],
   "source": [
    "Q1 = df['BMI'].quantile(0.25)\n",
    "Q3 = df['BMI'].quantile(0.75)\n",
    "IQR = Q3 - Q1\n",
    "\n",
    "# Define bounds for outliers\n",
    "lower_bound = Q1 - 1.5 * IQR\n",
    "upper_bound = Q3 + 1.5 * IQR\n",
    "\n",
    "# Cap the outliers\n",
    "df['BMI'] = df['BMI'].apply(lambda x: upper_bound if x > upper_bound else (lower_bound if x < lower_bound else x))\n",
    "\n"
   ]
  },
  {
   "cell_type": "code",
   "execution_count": null,
   "id": "27b30f34",
   "metadata": {
    "execution": {
     "iopub.execute_input": "2024-10-09T10:07:31.043416Z",
     "iopub.status.busy": "2024-10-09T10:07:31.042851Z",
     "iopub.status.idle": "2024-10-09T10:07:31.059075Z",
     "shell.execute_reply": "2024-10-09T10:07:31.057724Z",
     "shell.execute_reply.started": "2024-10-09T10:07:31.043357Z"
    },
    "papermill": {
     "duration": null,
     "end_time": null,
     "exception": null,
     "start_time": null,
     "status": "pending"
    },
    "tags": []
   },
   "outputs": [],
   "source": [
    "Q1 = df['glucose'].quantile(0.25)\n",
    "Q3 = df['glucose'].quantile(0.75)\n",
    "IQR = Q3 - Q1\n",
    "\n",
    "# Define bounds for outliers\n",
    "lower_bound = Q1 - 1.5 * IQR\n",
    "upper_bound = Q3 + 1.5 * IQR\n",
    "\n",
    "\n",
    "\n",
    "# Cap the outliers\n",
    "df['glucose'] = df['glucose'].apply(lambda x: upper_bound if x > upper_bound else (lower_bound if x < lower_bound else x))"
   ]
  },
  {
   "cell_type": "code",
   "execution_count": null,
   "id": "4dfcbeee",
   "metadata": {
    "execution": {
     "iopub.execute_input": "2024-10-09T10:07:31.061145Z",
     "iopub.status.busy": "2024-10-09T10:07:31.060698Z",
     "iopub.status.idle": "2024-10-09T10:07:31.302115Z",
     "shell.execute_reply": "2024-10-09T10:07:31.300941Z",
     "shell.execute_reply.started": "2024-10-09T10:07:31.061089Z"
    },
    "papermill": {
     "duration": null,
     "end_time": null,
     "exception": null,
     "start_time": null,
     "status": "pending"
    },
    "tags": []
   },
   "outputs": [],
   "source": [
    "plt.figure(figsize=(8, 6))\n",
    "\n",
    "sns.boxplot(x=df['cigsPerDay'])"
   ]
  },
  {
   "cell_type": "code",
   "execution_count": null,
   "id": "a7ed5353",
   "metadata": {
    "execution": {
     "iopub.execute_input": "2024-10-09T10:07:31.304476Z",
     "iopub.status.busy": "2024-10-09T10:07:31.303746Z",
     "iopub.status.idle": "2024-10-09T10:07:31.553737Z",
     "shell.execute_reply": "2024-10-09T10:07:31.552447Z",
     "shell.execute_reply.started": "2024-10-09T10:07:31.304416Z"
    },
    "papermill": {
     "duration": null,
     "end_time": null,
     "exception": null,
     "start_time": null,
     "status": "pending"
    },
    "tags": []
   },
   "outputs": [],
   "source": [
    "plt.figure(figsize=(8, 6))\n",
    "\n",
    "sns.boxplot(x=df['glucose'])\n",
    "#we have successfully capped all teh outliers"
   ]
  },
  {
   "cell_type": "code",
   "execution_count": null,
   "id": "13af3a6b",
   "metadata": {
    "execution": {
     "iopub.execute_input": "2024-10-09T10:07:31.555715Z",
     "iopub.status.busy": "2024-10-09T10:07:31.555271Z",
     "iopub.status.idle": "2024-10-09T10:07:31.568449Z",
     "shell.execute_reply": "2024-10-09T10:07:31.567070Z",
     "shell.execute_reply.started": "2024-10-09T10:07:31.555670Z"
    },
    "papermill": {
     "duration": null,
     "end_time": null,
     "exception": null,
     "start_time": null,
     "status": "pending"
    },
    "tags": []
   },
   "outputs": [],
   "source": [
    "df.isnull().sum()\n",
    "#we have to deal with the null value now,null values are filled with the mean(for numerical) and mode (for categorical) of the values with respect to its TenYearCHD "
   ]
  },
  {
   "cell_type": "code",
   "execution_count": null,
   "id": "1a3989e3",
   "metadata": {
    "execution": {
     "iopub.execute_input": "2024-10-09T10:07:31.570393Z",
     "iopub.status.busy": "2024-10-09T10:07:31.569932Z",
     "iopub.status.idle": "2024-10-09T10:07:31.691072Z",
     "shell.execute_reply": "2024-10-09T10:07:31.689505Z",
     "shell.execute_reply.started": "2024-10-09T10:07:31.570343Z"
    },
    "papermill": {
     "duration": null,
     "end_time": null,
     "exception": null,
     "start_time": null,
     "status": "pending"
    },
    "tags": []
   },
   "outputs": [],
   "source": [
    "mode_chd_1 = df[df['TenYearCHD'] == 1]['BPMeds'].mode()[0]\n",
    "\n",
    "# Step 2: Calculate the mode of \"education\" for TenYearCHD == 0\n",
    "mode_chd_0 = df[df['TenYearCHD'] == 0]['BPMeds'].mode()[0]\n",
    "\n",
    "# Step 3: Fill null values based on the value of \"TenYearCHD\"\n",
    "df['BPMeds'] = df.apply(\n",
    "    lambda row: mode_chd_1 if pd.isnull(row['BPMeds']) and row['TenYearCHD'] == 1 \n",
    "                else mode_chd_0 if pd.isnull(row['BPMeds']) and row['TenYearCHD'] == 0 \n",
    "                else row['BPMeds'],\n",
    "    axis=1\n",
    ")\n"
   ]
  },
  {
   "cell_type": "code",
   "execution_count": null,
   "id": "abf3364d",
   "metadata": {
    "execution": {
     "iopub.execute_input": "2024-10-09T10:07:31.693091Z",
     "iopub.status.busy": "2024-10-09T10:07:31.692539Z",
     "iopub.status.idle": "2024-10-09T10:07:31.819572Z",
     "shell.execute_reply": "2024-10-09T10:07:31.818108Z",
     "shell.execute_reply.started": "2024-10-09T10:07:31.693042Z"
    },
    "papermill": {
     "duration": null,
     "end_time": null,
     "exception": null,
     "start_time": null,
     "status": "pending"
    },
    "tags": []
   },
   "outputs": [],
   "source": [
    "mode_chd_1 = df[df['TenYearCHD'] == 1]['education'].mode()[0]\n",
    "\n",
    "# Step 2: Calculate the mode of \"education\" for TenYearCHD == 0\n",
    "mode_chd_0 = df[df['TenYearCHD'] == 0]['education'].mode()[0]\n",
    "\n",
    "# Step 3: Fill null values based on the value of \"TenYearCHD\"\n",
    "df['education'] = df.apply(\n",
    "    lambda row: mode_chd_1 if pd.isnull(row['education']) and row['TenYearCHD'] == 1 \n",
    "                else mode_chd_0 if pd.isnull(row['education']) and row['TenYearCHD'] == 0 \n",
    "                else row['education'],\n",
    "    axis=1\n",
    ")\n"
   ]
  },
  {
   "cell_type": "code",
   "execution_count": null,
   "id": "30e8cc98",
   "metadata": {
    "execution": {
     "iopub.execute_input": "2024-10-09T10:07:31.821362Z",
     "iopub.status.busy": "2024-10-09T10:07:31.820974Z",
     "iopub.status.idle": "2024-10-09T10:07:31.916261Z",
     "shell.execute_reply": "2024-10-09T10:07:31.915031Z",
     "shell.execute_reply.started": "2024-10-09T10:07:31.821317Z"
    },
    "papermill": {
     "duration": null,
     "end_time": null,
     "exception": null,
     "start_time": null,
     "status": "pending"
    },
    "tags": []
   },
   "outputs": [],
   "source": [
    "\n",
    "# Calculate the mode for ages based on TenYearCHD\n",
    "mode_age_chd_1 = df[df['TenYearCHD'] == 1]['glucose'].mean() # Mode of 'age' where TenYearCHD == 1\n",
    "mode_age_chd_0 = df[df['TenYearCHD'] == 0]['glucose'].mean() # Mode of 'age' where TenYearCHD == 0\n",
    "\n",
    "# Define a function to fill missing age based on TenYearCHD\n",
    "def fill_age(row):\n",
    "    if pd.isnull(row['glucose']):\n",
    "        if row['TenYearCHD'] == 1:\n",
    "            return mode_age_chd_1  # Fill with mode where TenYearCHD == 1\n",
    "        else:\n",
    "            return mode_age_chd_0  # Fill with mode where TenYearCHD == 0\n",
    "    return row['glucose']\n",
    "\n",
    "# Apply the function to fill missing ages\n",
    "df['glucose'] = df.apply(fill_age, axis=1)"
   ]
  },
  {
   "cell_type": "code",
   "execution_count": null,
   "id": "cd6645bf",
   "metadata": {
    "execution": {
     "iopub.execute_input": "2024-10-09T10:07:31.918114Z",
     "iopub.status.busy": "2024-10-09T10:07:31.917716Z",
     "iopub.status.idle": "2024-10-09T10:07:32.013110Z",
     "shell.execute_reply": "2024-10-09T10:07:32.011919Z",
     "shell.execute_reply.started": "2024-10-09T10:07:31.918073Z"
    },
    "papermill": {
     "duration": null,
     "end_time": null,
     "exception": null,
     "start_time": null,
     "status": "pending"
    },
    "tags": []
   },
   "outputs": [],
   "source": [
    "\n",
    "# Calculate the mode for ages based on TenYearCHD\n",
    "mode_age_chd_1 = df[df['TenYearCHD'] == 1]['cigsPerDay'].mean() # Mode of 'age' where TenYearCHD == 1\n",
    "mode_age_chd_0 = df[df['TenYearCHD'] == 0]['cigsPerDay'].mean() # Mode of 'age' where TenYearCHD == 0\n",
    "\n",
    "# Define a function to fill missing age based on TenYearCHD\n",
    "def fill_age(row):\n",
    "    if pd.isnull(row['cigsPerDay']):\n",
    "        if row['TenYearCHD'] == 1:\n",
    "            return mode_age_chd_1  # Fill with mode where TenYearCHD == 1\n",
    "        else:\n",
    "            return mode_age_chd_0  # Fill with mode where TenYearCHD == 0\n",
    "    return row['cigsPerDay']\n",
    "\n",
    "# Apply the function to fill missing ages\n",
    "df['cigsPerDay'] = df.apply(fill_age, axis=1)"
   ]
  },
  {
   "cell_type": "code",
   "execution_count": null,
   "id": "5339a5e0",
   "metadata": {
    "execution": {
     "iopub.execute_input": "2024-10-09T10:07:32.015096Z",
     "iopub.status.busy": "2024-10-09T10:07:32.014678Z",
     "iopub.status.idle": "2024-10-09T10:07:32.110379Z",
     "shell.execute_reply": "2024-10-09T10:07:32.109183Z",
     "shell.execute_reply.started": "2024-10-09T10:07:32.015048Z"
    },
    "papermill": {
     "duration": null,
     "end_time": null,
     "exception": null,
     "start_time": null,
     "status": "pending"
    },
    "tags": []
   },
   "outputs": [],
   "source": [
    "\n",
    "# Calculate the mode for ages based on TenYearCHD\n",
    "mode_age_chd_1 = df[df['TenYearCHD'] == 1]['totChol'].mean() # Mode of 'age' where TenYearCHD == 1\n",
    "mode_age_chd_0 = df[df['TenYearCHD'] == 0]['totChol'].mean() # Mode of 'age' where TenYearCHD == 0\n",
    "\n",
    "# Define a function to fill missing age based on TenYearCHD\n",
    "def fill_age(row):\n",
    "    if pd.isnull(row['totChol']):\n",
    "        if row['TenYearCHD'] == 1:\n",
    "            return mode_age_chd_1  # Fill with mode where TenYearCHD == 1\n",
    "        else:\n",
    "            return mode_age_chd_0  # Fill with mode where TenYearCHD == 0\n",
    "    return row['totChol']\n",
    "\n",
    "# Apply the function to fill missing ages\n",
    "df['totChol'] = df.apply(fill_age, axis=1)"
   ]
  },
  {
   "cell_type": "code",
   "execution_count": null,
   "id": "b1295c6a",
   "metadata": {
    "execution": {
     "iopub.execute_input": "2024-10-09T10:07:32.112156Z",
     "iopub.status.busy": "2024-10-09T10:07:32.111774Z",
     "iopub.status.idle": "2024-10-09T10:07:32.204596Z",
     "shell.execute_reply": "2024-10-09T10:07:32.203230Z",
     "shell.execute_reply.started": "2024-10-09T10:07:32.112114Z"
    },
    "papermill": {
     "duration": null,
     "end_time": null,
     "exception": null,
     "start_time": null,
     "status": "pending"
    },
    "tags": []
   },
   "outputs": [],
   "source": [
    "\n",
    "# Calculate the mode for ages based on TenYearCHD\n",
    "mode_age_chd_1 = df[df['TenYearCHD'] == 1]['BMI'].mean() # Mode of 'age' where TenYearCHD == 1\n",
    "mode_age_chd_0 = df[df['TenYearCHD'] == 0]['BMI'].mean() # Mode of 'age' where TenYearCHD == 0\n",
    "\n",
    "# Define a function to fill missing age based on TenYearCHD\n",
    "def fill_age(row):\n",
    "    if pd.isnull(row['BMI']):\n",
    "        if row['TenYearCHD'] == 1:\n",
    "            return mode_age_chd_1  # Fill with mode where TenYearCHD == 1\n",
    "        else:\n",
    "            return mode_age_chd_0  # Fill with mode where TenYearCHD == 0\n",
    "    return row['BMI']\n",
    "\n",
    "# Apply the function to fill missing ages\n",
    "df['BMI'] = df.apply(fill_age, axis=1)"
   ]
  },
  {
   "cell_type": "code",
   "execution_count": null,
   "id": "3a430363",
   "metadata": {
    "execution": {
     "iopub.execute_input": "2024-10-09T10:07:32.206782Z",
     "iopub.status.busy": "2024-10-09T10:07:32.206263Z",
     "iopub.status.idle": "2024-10-09T10:07:32.219165Z",
     "shell.execute_reply": "2024-10-09T10:07:32.217694Z",
     "shell.execute_reply.started": "2024-10-09T10:07:32.206725Z"
    },
    "papermill": {
     "duration": null,
     "end_time": null,
     "exception": null,
     "start_time": null,
     "status": "pending"
    },
    "tags": []
   },
   "outputs": [],
   "source": [
    "#checking for null values\n",
    "df.isnull().sum()\n",
    "#we have successfully removed null values"
   ]
  },
  {
   "cell_type": "code",
   "execution_count": null,
   "id": "488125c6",
   "metadata": {
    "execution": {
     "iopub.execute_input": "2024-10-09T10:07:32.221657Z",
     "iopub.status.busy": "2024-10-09T10:07:32.221093Z",
     "iopub.status.idle": "2024-10-09T10:07:32.372484Z",
     "shell.execute_reply": "2024-10-09T10:07:32.370885Z",
     "shell.execute_reply.started": "2024-10-09T10:07:32.221597Z"
    },
    "papermill": {
     "duration": null,
     "end_time": null,
     "exception": null,
     "start_time": null,
     "status": "pending"
    },
    "tags": []
   },
   "outputs": [],
   "source": [
    "\n",
    "\n",
    "# Assuming df is your dataframe\n",
    "gender_counts = df['male'].value_counts()\n",
    "\n",
    "# Create labels for the chart\n",
    "labels = ['Male', 'Female']  # Adjust the labels based on your data\n",
    "\n",
    "# Plot the pie chart\n",
    "plt.figure(figsize=(6, 6))\n",
    "plt.pie(gender_counts, labels=labels, autopct='%1.1f%%', startangle=90)\n",
    "plt.show()\n"
   ]
  },
  {
   "cell_type": "code",
   "execution_count": null,
   "id": "138805b1",
   "metadata": {
    "execution": {
     "iopub.execute_input": "2024-10-09T10:07:32.376019Z",
     "iopub.status.busy": "2024-10-09T10:07:32.375287Z",
     "iopub.status.idle": "2024-10-09T10:07:32.548294Z",
     "shell.execute_reply": "2024-10-09T10:07:32.546353Z",
     "shell.execute_reply.started": "2024-10-09T10:07:32.375923Z"
    },
    "papermill": {
     "duration": null,
     "end_time": null,
     "exception": null,
     "start_time": null,
     "status": "pending"
    },
    "tags": []
   },
   "outputs": [],
   "source": [
    "\n",
    "\n",
    "# Plot the pie chart\n",
    "plt.figure(figsize=(6, 6))\n",
    "plt.pie(gender_counts, labels=labels, autopct='%1.1f%%', startangle=90)\n",
    "plt.show()\n"
   ]
  },
  {
   "cell_type": "code",
   "execution_count": null,
   "id": "7ad1fde2",
   "metadata": {
    "execution": {
     "iopub.execute_input": "2024-10-09T10:07:32.553004Z",
     "iopub.status.busy": "2024-10-09T10:07:32.551725Z",
     "iopub.status.idle": "2024-10-09T10:07:32.730582Z",
     "shell.execute_reply": "2024-10-09T10:07:32.728482Z",
     "shell.execute_reply.started": "2024-10-09T10:07:32.552899Z"
    },
    "papermill": {
     "duration": null,
     "end_time": null,
     "exception": null,
     "start_time": null,
     "status": "pending"
    },
    "tags": []
   },
   "outputs": [],
   "source": [
    "\n",
    "\n",
    "# Assuming df is your dataframe\n",
    "gender_counts = df['BPMeds'].value_counts()\n",
    "\n",
    "# Create labels for the chart\n",
    "labels = ['Take BPMeds', 'Do not BPMeds']  # Adjust the labels based on your data\n",
    "\n",
    "# Plot the pie chart\n",
    "plt.figure(figsize=(6, 6))\n",
    "plt.pie(gender_counts, labels=labels, autopct='%1.1f%%', startangle=90)\n",
    "plt.show()\n"
   ]
  },
  {
   "cell_type": "code",
   "execution_count": null,
   "id": "f7afaef3",
   "metadata": {
    "execution": {
     "iopub.execute_input": "2024-10-09T10:07:32.734649Z",
     "iopub.status.busy": "2024-10-09T10:07:32.733989Z",
     "iopub.status.idle": "2024-10-09T10:07:32.903321Z",
     "shell.execute_reply": "2024-10-09T10:07:32.901399Z",
     "shell.execute_reply.started": "2024-10-09T10:07:32.734578Z"
    },
    "papermill": {
     "duration": null,
     "end_time": null,
     "exception": null,
     "start_time": null,
     "status": "pending"
    },
    "tags": []
   },
   "outputs": [],
   "source": [
    "\n",
    "\n",
    "# Assuming df is your dataframe\n",
    "gender_counts = df['prevalentStroke'].value_counts()\n",
    "\n",
    "# Create labels for the chart\n",
    "labels = ['Yes', 'No']  # Adjust the labels based on your data\n",
    "\n",
    "# Plot the pie chart\n",
    "plt.figure(figsize=(6, 6))\n",
    "plt.pie(gender_counts, labels=labels, autopct='%1.1f%%', startangle=90)\n",
    "plt.show()\n"
   ]
  },
  {
   "cell_type": "code",
   "execution_count": null,
   "id": "5936b283",
   "metadata": {
    "execution": {
     "iopub.execute_input": "2024-10-09T10:07:32.907229Z",
     "iopub.status.busy": "2024-10-09T10:07:32.906508Z",
     "iopub.status.idle": "2024-10-09T10:07:33.067806Z",
     "shell.execute_reply": "2024-10-09T10:07:33.065994Z",
     "shell.execute_reply.started": "2024-10-09T10:07:32.907152Z"
    },
    "papermill": {
     "duration": null,
     "end_time": null,
     "exception": null,
     "start_time": null,
     "status": "pending"
    },
    "tags": []
   },
   "outputs": [],
   "source": [
    "\n",
    "\n",
    "# Assuming df is your dataframe\n",
    "gender_counts = df['prevalentHyp'].value_counts()\n",
    "\n",
    "# Create labels for the chart\n",
    "labels = ['Yes', 'No']  # Adjust the labels based on your data\n",
    "\n",
    "# Plot the pie chart\n",
    "plt.figure(figsize=(6, 6))\n",
    "plt.pie(gender_counts, labels=labels, autopct='%1.1f%%', startangle=90)\n",
    "plt.show()\n"
   ]
  },
  {
   "cell_type": "code",
   "execution_count": null,
   "id": "0df7e5a5",
   "metadata": {
    "execution": {
     "iopub.execute_input": "2024-10-09T10:07:33.071282Z",
     "iopub.status.busy": "2024-10-09T10:07:33.070577Z",
     "iopub.status.idle": "2024-10-09T10:07:33.251327Z",
     "shell.execute_reply": "2024-10-09T10:07:33.249334Z",
     "shell.execute_reply.started": "2024-10-09T10:07:33.071202Z"
    },
    "papermill": {
     "duration": null,
     "end_time": null,
     "exception": null,
     "start_time": null,
     "status": "pending"
    },
    "tags": []
   },
   "outputs": [],
   "source": [
    "\n",
    "\n",
    "# Assuming df is your dataframe\n",
    "gender_counts = df['diabetes'].value_counts()\n",
    "\n",
    "# Create labels for the chart\n",
    "labels = ['Yes', 'No']  # Adjust the labels based on your data\n",
    "\n",
    "# Plot the pie chart\n",
    "plt.figure(figsize=(6, 6))\n",
    "plt.pie(gender_counts, labels=labels, autopct='%1.1f%%', startangle=90)\n",
    "plt.show()\n"
   ]
  },
  {
   "cell_type": "code",
   "execution_count": null,
   "id": "6bcdfd4e",
   "metadata": {
    "execution": {
     "iopub.execute_input": "2024-10-09T10:07:33.254787Z",
     "iopub.status.busy": "2024-10-09T10:07:33.254160Z",
     "iopub.status.idle": "2024-10-09T10:07:33.298387Z",
     "shell.execute_reply": "2024-10-09T10:07:33.296744Z",
     "shell.execute_reply.started": "2024-10-09T10:07:33.254715Z"
    },
    "papermill": {
     "duration": null,
     "end_time": null,
     "exception": null,
     "start_time": null,
     "status": "pending"
    },
    "tags": []
   },
   "outputs": [],
   "source": [
    "df.head()"
   ]
  },
  {
   "cell_type": "code",
   "execution_count": null,
   "id": "de23490a",
   "metadata": {
    "papermill": {
     "duration": null,
     "end_time": null,
     "exception": null,
     "start_time": null,
     "status": "pending"
    },
    "tags": []
   },
   "outputs": [],
   "source": []
  }
 ],
 "metadata": {
  "kaggle": {
   "accelerator": "none",
   "dataSources": [
    {
     "datasetId": 222487,
     "sourceId": 478477,
     "sourceType": "datasetVersion"
    }
   ],
   "dockerImageVersionId": 30786,
   "isGpuEnabled": false,
   "isInternetEnabled": false,
   "language": "python",
   "sourceType": "notebook"
  },
  "kernelspec": {
   "display_name": "Python 3",
   "language": "python",
   "name": "python3"
  },
  "language_info": {
   "codemirror_mode": {
    "name": "ipython",
    "version": 3
   },
   "file_extension": ".py",
   "mimetype": "text/x-python",
   "name": "python",
   "nbconvert_exporter": "python",
   "pygments_lexer": "ipython3",
   "version": "3.10.14"
  },
  "papermill": {
   "default_parameters": {},
   "duration": 7.435613,
   "end_time": "2024-10-09T10:10:00.678810",
   "environment_variables": {},
   "exception": true,
   "input_path": "__notebook__.ipynb",
   "output_path": "__notebook__.ipynb",
   "parameters": {},
   "start_time": "2024-10-09T10:09:53.243197",
   "version": "2.6.0"
  }
 },
 "nbformat": 4,
 "nbformat_minor": 5
}
